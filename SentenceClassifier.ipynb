{
  "nbformat": 4,
  "nbformat_minor": 0,
  "metadata": {
    "colab": {
      "name": "SentenceClassifier.ipynb",
      "provenance": [],
      "toc_visible": true,
      "authorship_tag": "ABX9TyOsZXDSAXeRpiV4raO8OzIk",
      "include_colab_link": true
    },
    "kernelspec": {
      "name": "python3",
      "display_name": "Python 3"
    },
    "language_info": {
      "name": "python"
    }
  },
  "cells": [
    {
      "cell_type": "markdown",
      "metadata": {
        "id": "view-in-github",
        "colab_type": "text"
      },
      "source": [
        "<a href=\"https://colab.research.google.com/github/footprinthere/DeepLearningWithTensorflow/blob/main/SentenceClassifier.ipynb\" target=\"_parent\"><img src=\"https://colab.research.google.com/assets/colab-badge.svg\" alt=\"Open In Colab\"/></a>"
      ]
    },
    {
      "cell_type": "markdown",
      "metadata": {
        "id": "SBQnOiBw6zoi"
      },
      "source": [
        "# Sentence Setimental Classifier"
      ]
    },
    {
      "cell_type": "markdown",
      "metadata": {
        "id": "TqKmzGNu8-DA"
      },
      "source": [
        "### Modules"
      ]
    },
    {
      "cell_type": "code",
      "metadata": {
        "id": "kJt4Sch98xse"
      },
      "source": [
        "import numpy as np\n",
        "import tensorflow as tf\n",
        "from tensorflow import keras\n",
        "from tensorflow.keras import layers\n",
        "from pprint import pprint\n",
        "import matplotlib.pyplot as plt"
      ],
      "execution_count": 1,
      "outputs": []
    },
    {
      "cell_type": "markdown",
      "metadata": {
        "id": "apbjK-es66CA"
      },
      "source": [
        "### Dataset"
      ]
    },
    {
      "cell_type": "markdown",
      "metadata": {
        "id": "x3PyA2mZ699m"
      },
      "source": [
        "학습에 사용할 example data를 만든다."
      ]
    },
    {
      "cell_type": "code",
      "metadata": {
        "colab": {
          "base_uri": "https://localhost:8080/"
        },
        "id": "HTA-h16K6upH",
        "outputId": "5c0d3d3b-a778-436b-a818-db26d746d91e"
      },
      "source": [
        "# example data\n",
        "sentences = [\"역시 마블은 배신하지 않는다\", \"아 진짜 너무 재밌다\",\n",
        "             \"연기력 좋고 볼 만했다\", \"정말 소름 돋았다\",\n",
        "             \"따뜻함을 느낄 수 있었다\", \"오프닝이 기억에 남는다\",\n",
        "             \"시간 가는 줄 모르고 봤다\", \"액션이 살아 있다\",\n",
        "             \"전혀 기대하지 않았던 스토리였다\", \"본 걸 후회했다\",\n",
        "             \"정말 지루하고 억지스러웠다\", \"스토리 개연성이 부족했다\",\n",
        "             \"정말 많이 실망했다\", \"마블 영화 중 최악이었다\",\n",
        "             \"지루하고 뻔한 영화였다\", \"액션이 적어 지루했다\"]\n",
        "labels = [0] * 8 + [1] * 8  # 0: Positive, 1: Negative\n",
        "\n",
        "print(len(sentences))\n",
        "print(len(labels))"
      ],
      "execution_count": 2,
      "outputs": [
        {
          "output_type": "stream",
          "text": [
            "16\n",
            "16\n"
          ],
          "name": "stdout"
        }
      ]
    },
    {
      "cell_type": "markdown",
      "metadata": {
        "id": "oG_wylR79sAY"
      },
      "source": [
        "sentences에 저장된 각 문장을 단어들의 list로 변환한다."
      ]
    },
    {
      "cell_type": "code",
      "metadata": {
        "colab": {
          "base_uri": "https://localhost:8080/"
        },
        "id": "YK9OVTL09wJx",
        "outputId": "f6af085f-27a2-4ddf-a87d-9ebee1a46f59"
      },
      "source": [
        "sentences = [sentence.split(' ') for sentence in sentences]\n",
        "\n",
        "pprint(sentences)"
      ],
      "execution_count": 3,
      "outputs": [
        {
          "output_type": "stream",
          "text": [
            "[['역시', '마블은', '배신하지', '않는다'],\n",
            " ['아', '진짜', '너무', '재밌다'],\n",
            " ['연기력', '좋고', '볼', '만했다'],\n",
            " ['정말', '소름', '돋았다'],\n",
            " ['따뜻함을', '느낄', '수', '있었다'],\n",
            " ['오프닝이', '기억에', '남는다'],\n",
            " ['시간', '가는', '줄', '모르고', '봤다'],\n",
            " ['액션이', '살아', '있다'],\n",
            " ['전혀', '기대하지', '않았던', '스토리였다'],\n",
            " ['본', '걸', '후회했다'],\n",
            " ['정말', '지루하고', '억지스러웠다'],\n",
            " ['스토리', '개연성이', '부족했다'],\n",
            " ['정말', '많이', '실망했다'],\n",
            " ['마블', '영화', '중', '최악이었다'],\n",
            " ['지루하고', '뻔한', '영화였다'],\n",
            " ['액션이', '적어', '지루했다']]\n"
          ],
          "name": "stdout"
        }
      ]
    },
    {
      "cell_type": "markdown",
      "metadata": {
        "id": "TcfDVoiU9G9p"
      },
      "source": [
        "문장 데이터를 수치 데이터로 변환하기 위해 단어들로 구성된 dictionary를 생성한다."
      ]
    },
    {
      "cell_type": "code",
      "metadata": {
        "colab": {
          "base_uri": "https://localhost:8080/"
        },
        "id": "xVII-CZz8tmc",
        "outputId": "da111ed1-f10f-4b1b-b462-933967b6c07d"
      },
      "source": [
        "# create token dictionary\n",
        "word_set = ['<pad>'] + sorted(set(sum(sentences, [])))\n",
        "word2idx = {word : idx for idx, word in enumerate(word_set)}\n",
        "\n",
        "pprint(word2idx)"
      ],
      "execution_count": 4,
      "outputs": [
        {
          "output_type": "stream",
          "text": [
            "{'<pad>': 0,\n",
            " '가는': 1,\n",
            " '개연성이': 2,\n",
            " '걸': 3,\n",
            " '기대하지': 4,\n",
            " '기억에': 5,\n",
            " '남는다': 6,\n",
            " '너무': 7,\n",
            " '느낄': 8,\n",
            " '돋았다': 9,\n",
            " '따뜻함을': 10,\n",
            " '마블': 11,\n",
            " '마블은': 12,\n",
            " '만했다': 13,\n",
            " '많이': 14,\n",
            " '모르고': 15,\n",
            " '배신하지': 16,\n",
            " '본': 17,\n",
            " '볼': 18,\n",
            " '봤다': 19,\n",
            " '부족했다': 20,\n",
            " '뻔한': 21,\n",
            " '살아': 22,\n",
            " '소름': 23,\n",
            " '수': 24,\n",
            " '스토리': 25,\n",
            " '스토리였다': 26,\n",
            " '시간': 27,\n",
            " '실망했다': 28,\n",
            " '아': 29,\n",
            " '않는다': 30,\n",
            " '않았던': 31,\n",
            " '액션이': 32,\n",
            " '억지스러웠다': 33,\n",
            " '역시': 34,\n",
            " '연기력': 35,\n",
            " '영화': 36,\n",
            " '영화였다': 37,\n",
            " '오프닝이': 38,\n",
            " '있다': 39,\n",
            " '있었다': 40,\n",
            " '재밌다': 41,\n",
            " '적어': 42,\n",
            " '전혀': 43,\n",
            " '정말': 44,\n",
            " '좋고': 45,\n",
            " '줄': 46,\n",
            " '중': 47,\n",
            " '지루하고': 48,\n",
            " '지루했다': 49,\n",
            " '진짜': 50,\n",
            " '최악이었다': 51,\n",
            " '후회했다': 52}\n"
          ],
          "name": "stdout"
        }
      ]
    },
    {
      "cell_type": "markdown",
      "metadata": {
        "id": "j9Hu-v9Z-aCw"
      },
      "source": [
        "sentences의 문장들을 각 token에 해당하는 index 데이터로 변환한다."
      ]
    },
    {
      "cell_type": "code",
      "metadata": {
        "id": "odcsnDQI9adH",
        "colab": {
          "base_uri": "https://localhost:8080/"
        },
        "outputId": "e0c09ed6-1f5c-4430-b4f8-f8a489fabadc"
      },
      "source": [
        "# convert sequence of words into sequence of indices\n",
        "x_data = list(map(lambda sentence : [word2idx.get(token) for token in sentence], sentences))\n",
        "x_data_len = list(map(lambda sentence : len(sentence), sentences))\n",
        "\n",
        "pprint(x_data)\n",
        "print(x_data_len)"
      ],
      "execution_count": 5,
      "outputs": [
        {
          "output_type": "stream",
          "text": [
            "[[34, 12, 16, 30],\n",
            " [29, 50, 7, 41],\n",
            " [35, 45, 18, 13],\n",
            " [44, 23, 9],\n",
            " [10, 8, 24, 40],\n",
            " [38, 5, 6],\n",
            " [27, 1, 46, 15, 19],\n",
            " [32, 22, 39],\n",
            " [43, 4, 31, 26],\n",
            " [17, 3, 52],\n",
            " [44, 48, 33],\n",
            " [25, 2, 20],\n",
            " [44, 14, 28],\n",
            " [11, 36, 47, 51],\n",
            " [48, 21, 37],\n",
            " [32, 42, 49]]\n",
            "[4, 4, 4, 3, 4, 3, 5, 3, 4, 3, 3, 3, 3, 4, 3, 3]\n"
          ],
          "name": "stdout"
        }
      ]
    },
    {
      "cell_type": "markdown",
      "metadata": {
        "id": "E5IbDAWj-8S7"
      },
      "source": [
        "입력 데이터의 길이를 통일하기 위해 padding을 수행한다."
      ]
    },
    {
      "cell_type": "code",
      "metadata": {
        "colab": {
          "base_uri": "https://localhost:8080/"
        },
        "id": "IBms47e_-5KM",
        "outputId": "dac717a0-cbed-4acf-b390-52eb25388b0c"
      },
      "source": [
        "# padding\n",
        "maxlen = max(x_data_len)\n",
        "x_data = keras.preprocessing.sequence.pad_sequences(\n",
        "    x_data, maxlen=maxlen, padding='post', truncating='post'\n",
        ")\n",
        "\n",
        "pprint(x_data)"
      ],
      "execution_count": 6,
      "outputs": [
        {
          "output_type": "stream",
          "text": [
            "array([[34, 12, 16, 30,  0],\n",
            "       [29, 50,  7, 41,  0],\n",
            "       [35, 45, 18, 13,  0],\n",
            "       [44, 23,  9,  0,  0],\n",
            "       [10,  8, 24, 40,  0],\n",
            "       [38,  5,  6,  0,  0],\n",
            "       [27,  1, 46, 15, 19],\n",
            "       [32, 22, 39,  0,  0],\n",
            "       [43,  4, 31, 26,  0],\n",
            "       [17,  3, 52,  0,  0],\n",
            "       [44, 48, 33,  0,  0],\n",
            "       [25,  2, 20,  0,  0],\n",
            "       [44, 14, 28,  0,  0],\n",
            "       [11, 36, 47, 51,  0],\n",
            "       [48, 21, 37,  0,  0],\n",
            "       [32, 42, 49,  0,  0]], dtype=int32)\n"
          ],
          "name": "stdout"
        }
      ]
    },
    {
      "cell_type": "markdown",
      "metadata": {
        "id": "wTigrVyR_cZ-"
      },
      "source": [
        "tf.data.Dataset으로 학습에 사용할 데이터셋을 구성한다."
      ]
    },
    {
      "cell_type": "code",
      "metadata": {
        "colab": {
          "base_uri": "https://localhost:8080/"
        },
        "id": "v4uA_8Op_R8B",
        "outputId": "84deec18-8bee-45b4-f5c2-4b74aabd8e3d"
      },
      "source": [
        "# generate data pipeline\n",
        "buffer_size = 20\n",
        "batch_size = 4\n",
        "dataset = tf.data.Dataset.from_tensor_slices((x_data, x_data_len, labels)).\\\n",
        "    shuffle(buffer_size).batch(batch_size)\n",
        "\n",
        "print(dataset)"
      ],
      "execution_count": 7,
      "outputs": [
        {
          "output_type": "stream",
          "text": [
            "<BatchDataset shapes: ((None, 5), (None,), (None,)), types: (tf.int32, tf.int32, tf.int32)>\n"
          ],
          "name": "stdout"
        }
      ]
    },
    {
      "cell_type": "markdown",
      "metadata": {
        "id": "KXGjFsORAIba"
      },
      "source": [
        "### Model"
      ]
    },
    {
      "cell_type": "markdown",
      "metadata": {
        "id": "rf40I9t_AKBh"
      },
      "source": [
        "stacked RNN 형태의 모델을 구성한다."
      ]
    },
    {
      "cell_type": "code",
      "metadata": {
        "colab": {
          "base_uri": "https://localhost:8080/"
        },
        "id": "t2x6pcvl_u23",
        "outputId": "b1b62dd3-9c79-48aa-a437-8c75a8935a1e"
      },
      "source": [
        "# create model\n",
        "hidden_size = [10, 10]\n",
        "num_classes = 2\n",
        "embedding_dim = len(word2idx)\n",
        "one_hot = np.eye(embedding_dim)\n",
        "\n",
        "model = keras.Sequential()\n",
        "model.add(layers.Embedding(\n",
        "    input_dim=embedding_dim, output_dim=embedding_dim, input_length=maxlen,\n",
        "    trainable=False, mask_zero=True,\n",
        "    embeddings_initializer=keras.initializers.Constant(one_hot)\n",
        "))\n",
        "model.add(layers.GRU(units=hidden_size[0], return_sequences=True))\n",
        "model.add(layers.TimeDistributed(layers.Dropout(0.4)))\n",
        "model.add(layers.GRU(units=hidden_size[1]))\n",
        "model.add(layers.Dense(units=num_classes))\n",
        "\n",
        "model.summary()"
      ],
      "execution_count": 8,
      "outputs": [
        {
          "output_type": "stream",
          "text": [
            "Model: \"sequential\"\n",
            "_________________________________________________________________\n",
            "Layer (type)                 Output Shape              Param #   \n",
            "=================================================================\n",
            "embedding (Embedding)        (None, 5, 53)             2809      \n",
            "_________________________________________________________________\n",
            "gru (GRU)                    (None, 5, 10)             1950      \n",
            "_________________________________________________________________\n",
            "time_distributed (TimeDistri (None, 5, 10)             0         \n",
            "_________________________________________________________________\n",
            "gru_1 (GRU)                  (None, 10)                660       \n",
            "_________________________________________________________________\n",
            "dense (Dense)                (None, 2)                 22        \n",
            "=================================================================\n",
            "Total params: 5,441\n",
            "Trainable params: 2,632\n",
            "Non-trainable params: 2,809\n",
            "_________________________________________________________________\n"
          ],
          "name": "stdout"
        }
      ]
    },
    {
      "cell_type": "markdown",
      "metadata": {
        "id": "-EJ5sIWQBUzK"
      },
      "source": [
        "학습에 사용할 loss function을 정의한다."
      ]
    },
    {
      "cell_type": "code",
      "metadata": {
        "id": "gRgtMDswBKvH"
      },
      "source": [
        "# define loss function\n",
        "def loss_func(model, x, y):\n",
        "    logits = model(x, training=True)\n",
        "    return tf.reduce_mean(keras.losses.sparse_categorical_crossentropy(\n",
        "        y_true=y, y_pred=logits, from_logits=True\n",
        "    ))"
      ],
      "execution_count": 9,
      "outputs": []
    },
    {
      "cell_type": "markdown",
      "metadata": {
        "id": "rIo7hk7ABpCH"
      },
      "source": [
        "gradient와 loss를 반환하는 함수를 정의한다."
      ]
    },
    {
      "cell_type": "code",
      "metadata": {
        "id": "7qAlkAprBoUp"
      },
      "source": [
        "# define gradient function\n",
        "def grad_func(model, x, y):\n",
        "    with tf.GradientTape() as tape:\n",
        "        loss = loss_func(model, x, y)\n",
        "    return tape.gradient(loss, model.variables), loss"
      ],
      "execution_count": 10,
      "outputs": []
    },
    {
      "cell_type": "markdown",
      "metadata": {
        "id": "0pJ5H_VEB3RM"
      },
      "source": [
        "학습에 사용할 Adam optimizer를 생성한다."
      ]
    },
    {
      "cell_type": "code",
      "metadata": {
        "id": "deGgUFbWB2hG"
      },
      "source": [
        "# create optimizer\n",
        "lr = 0.01\n",
        "epochs = 50\n",
        "opt = keras.optimizers.Adam(learning_rate=lr)"
      ],
      "execution_count": 11,
      "outputs": []
    },
    {
      "cell_type": "markdown",
      "metadata": {
        "id": "u74UL9WGCGtJ"
      },
      "source": [
        "### Training"
      ]
    },
    {
      "cell_type": "markdown",
      "metadata": {
        "id": "cCxPiyy8CKvx"
      },
      "source": [
        "구성한 모델을 이용해 학습을 수행한다."
      ]
    },
    {
      "cell_type": "code",
      "metadata": {
        "colab": {
          "base_uri": "https://localhost:8080/"
        },
        "id": "j3aZnR6UCDwN",
        "outputId": "03ea2ae9-11f8-4a9f-d716-5ccd8a291137"
      },
      "source": [
        "# training\n",
        "print(\"Training started.\")\n",
        "loss_hist = []\n",
        "\n",
        "for epoch in range(1, epochs+1):\n",
        "    total_loss = 0\n",
        "    tr_step = 0\n",
        "\n",
        "    for x, x_len, y in dataset:\n",
        "        grads, loss = grad_func(model, x, y)\n",
        "        opt.apply_gradients(zip(grads, model.variables))\n",
        "        total_loss += loss\n",
        "        tr_step += 1\n",
        "    \n",
        "    avg_loss = total_loss / tr_step\n",
        "    loss_hist.append(avg_loss)\n",
        "\n",
        "    if epoch % 5 == 0:\n",
        "        print(\"epoch: {:4}, loss: {:.4f}\".format(epoch, avg_loss))\n",
        "\n",
        "print(\"Training finished.\")"
      ],
      "execution_count": 12,
      "outputs": [
        {
          "output_type": "stream",
          "text": [
            "Training started.\n",
            "epoch:    5, loss: 0.1865\n",
            "epoch:   10, loss: 0.0029\n",
            "epoch:   15, loss: 0.0025\n",
            "epoch:   20, loss: 0.0008\n",
            "epoch:   25, loss: 0.0006\n",
            "epoch:   30, loss: 0.0005\n",
            "epoch:   35, loss: 0.0005\n",
            "epoch:   40, loss: 0.0004\n",
            "epoch:   45, loss: 0.0004\n",
            "epoch:   50, loss: 0.0004\n",
            "Training finished.\n"
          ],
          "name": "stdout"
        }
      ]
    },
    {
      "cell_type": "markdown",
      "metadata": {
        "id": "lAxHJiLzDfpa"
      },
      "source": [
        "학습 과정에서 각 epoch의 loss가 어떻게 변화하는지 확인한다."
      ]
    },
    {
      "cell_type": "code",
      "metadata": {
        "colab": {
          "base_uri": "https://localhost:8080/",
          "height": 283
        },
        "id": "4V7yq-iAC7hf",
        "outputId": "362c1c52-f145-4e4e-e05a-29496b81d012"
      },
      "source": [
        "# check change of loss\n",
        "plt.plot(loss_hist)"
      ],
      "execution_count": 13,
      "outputs": [
        {
          "output_type": "execute_result",
          "data": {
            "text/plain": [
              "[<matplotlib.lines.Line2D at 0x7f22087ce110>]"
            ]
          },
          "metadata": {
            "tags": []
          },
          "execution_count": 13
        },
        {
          "output_type": "display_data",
          "data": {
            "image/png": "[encoded data removed]",
            "text/plain": [
              "<Figure size 432x288 with 1 Axes>"
            ]
          },
          "metadata": {
            "tags": [],
            "needs_background": "light"
          }
        }
      ]
    },
    {
      "cell_type": "markdown",
      "metadata": {
        "id": "8q0saaKxDpFI"
      },
      "source": [
        "모델이 training set에 대해 어느 정도의 정확도를 보이는지 확인한다."
      ]
    },
    {
      "cell_type": "code",
      "metadata": {
        "colab": {
          "base_uri": "https://localhost:8080/"
        },
        "id": "ou_hTKq4DGFx",
        "outputId": "6e0521dd-c6de-4bc5-c1b8-1bfc0304d612"
      },
      "source": [
        "# check performance\n",
        "pred = model.predict(x_data)\n",
        "pred = np.argmax(pred, axis=-1)\n",
        "\n",
        "acc = tf.reduce_mean(tf.cast(pred == labels, dtype=np.float32))\n",
        "print(\"accuracy: {:.3%}\".format(acc))"
      ],
      "execution_count": 14,
      "outputs": [
        {
          "output_type": "stream",
          "text": [
            "accuracy: 100.000%\n"
          ],
          "name": "stdout"
        }
      ]
    },
    {
      "cell_type": "markdown",
      "metadata": {
        "id": "P0V_V2vsHGBc"
      },
      "source": [
        "### Test"
      ]
    },
    {
      "cell_type": "markdown",
      "metadata": {
        "id": "FeqSMjNGHH1m"
      },
      "source": [
        "될까?"
      ]
    },
    {
      "cell_type": "code",
      "metadata": {
        "colab": {
          "base_uri": "https://localhost:8080/"
        },
        "id": "VbY8pOv_GvcP",
        "outputId": "a901b1d0-ca08-4931-df2f-97e393fb9673"
      },
      "source": [
        "test_data = [\"정말 재미있는 영화였다\", \"너무 지루하고 재미없었다\"]\n",
        "answer = [0, 1]\n",
        "test_data = [sentence.split(' ') for sentence in test_data]\n",
        "test_data = list(map(lambda sentence : [word2idx.get(token, 0) for token in sentence], test_data))\n",
        "test_data = keras.preprocessing.sequence.pad_sequences(\n",
        "    test_data, maxlen=maxlen, padding='post', truncating='post'\n",
        ")\n",
        "print(test_data)\n",
        "print()\n",
        "\n",
        "test_pred = np.argmax(model.predict(test_data), axis=-1)\n",
        "print(test_pred, answer)\n",
        "print(\"test accuracy: {:.3%}\".format(tf.reduce_mean(tf.cast(test_pred==answer, np.float32), axis=-1)))"
      ],
      "execution_count": 15,
      "outputs": [
        {
          "output_type": "stream",
          "text": [
            "[[44  0 37  0  0]\n",
            " [ 7 48  0  0  0]]\n",
            "\n",
            "[1 0] [0, 1]\n",
            "test accuracy: 0.000%\n"
          ],
          "name": "stdout"
        }
      ]
    },
    {
      "cell_type": "code",
      "metadata": {
        "colab": {
          "base_uri": "https://localhost:8080/"
        },
        "id": "SYXwtE8eHVfw",
        "outputId": "650fb6b7-03a2-444b-c594-e9542c4da458"
      },
      "source": [
        "test_data = [\"어쩜 이렇게 재미있을 수가\", \"다시는 보고 싶지 않다\"]\n",
        "answer = [0, 1]\n",
        "test_data = [sentence.split(' ') for sentence in test_data]\n",
        "test_data = list(map(lambda sentence : [word2idx.get(token, 0) for token in sentence], test_data))\n",
        "test_data = keras.preprocessing.sequence.pad_sequences(\n",
        "    test_data, maxlen=maxlen, padding='post', truncating='post'\n",
        ")\n",
        "print(test_data)\n",
        "print()\n",
        "\n",
        "test_pred = np.argmax(model.predict(test_data), axis=-1)\n",
        "print(test_pred, answer)\n",
        "print(\"test accuracy: {:.3%}\".format(tf.reduce_mean(tf.cast(test_pred==answer, np.float32), axis=-1)))"
      ],
      "execution_count": 16,
      "outputs": [
        {
          "output_type": "stream",
          "text": [
            "[[0 0 0 0 0]\n",
            " [0 0 0 0 0]]\n",
            "\n",
            "[1 1] [0, 1]\n",
            "test accuracy: 50.000%\n"
          ],
          "name": "stdout"
        }
      ]
    }
  ]
}